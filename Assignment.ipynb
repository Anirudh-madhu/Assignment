{
 "cells": [
  {
   "cell_type": "code",
   "execution_count": 74,
   "metadata": {},
   "outputs": [],
   "source": [
    "import pandas as pd\n",
    "#pip install sklearn-pandas\n",
    "from sklearn_pandas import CategoricalImputer"
   ]
  },
  {
   "cell_type": "code",
   "execution_count": 41,
   "metadata": {},
   "outputs": [],
   "source": [
    "data= pd.read_csv(\"invoice.csv\", header=0)"
   ]
  },
  {
   "cell_type": "code",
   "execution_count": 63,
   "metadata": {
    "scrolled": true
   },
   "outputs": [
    {
     "data": {
      "text/html": [
       "<div>\n",
       "<style scoped>\n",
       "    .dataframe tbody tr th:only-of-type {\n",
       "        vertical-align: middle;\n",
       "    }\n",
       "\n",
       "    .dataframe tbody tr th {\n",
       "        vertical-align: top;\n",
       "    }\n",
       "\n",
       "    .dataframe thead th {\n",
       "        text-align: right;\n",
       "    }\n",
       "</style>\n",
       "<table border=\"1\" class=\"dataframe\">\n",
       "  <thead>\n",
       "    <tr style=\"text-align: right;\">\n",
       "      <th></th>\n",
       "      <th>Invoice_Posting_Date</th>\n",
       "      <th>Invoice_Issue_Date</th>\n",
       "      <th>Contract_Number</th>\n",
       "      <th>PO_Number</th>\n",
       "      <th>Item_Type</th>\n",
       "      <th>Acquistion_Method</th>\n",
       "      <th>Department</th>\n",
       "      <th>Vendor</th>\n",
       "      <th>Vendor_Type</th>\n",
       "      <th>Vendor_Zip_Code</th>\n",
       "      <th>...</th>\n",
       "      <th>Expense_Type</th>\n",
       "      <th>GL_Head</th>\n",
       "      <th>Invoice_Number</th>\n",
       "      <th>Invoice_Type</th>\n",
       "      <th>Purchase_Method</th>\n",
       "      <th>Payment_Amount_In_USD</th>\n",
       "      <th>State</th>\n",
       "      <th>County</th>\n",
       "      <th>Major_City</th>\n",
       "      <th>Country</th>\n",
       "    </tr>\n",
       "  </thead>\n",
       "  <tbody>\n",
       "    <tr>\n",
       "      <th>0</th>\n",
       "      <td>2017-07-05</td>\n",
       "      <td>2017-07-03</td>\n",
       "      <td>7-11-51-02</td>\n",
       "      <td>ECC-11-435.01-020A</td>\n",
       "      <td>IT Goods</td>\n",
       "      <td>Services are specifically exempt by policy</td>\n",
       "      <td>Energy Commission, California</td>\n",
       "      <td>Elsevier BV</td>\n",
       "      <td>CA-MB CA-SB</td>\n",
       "      <td>19170-8455</td>\n",
       "      <td>...</td>\n",
       "      <td>capex</td>\n",
       "      <td>Angelina</td>\n",
       "      <td>114333</td>\n",
       "      <td>Interim</td>\n",
       "      <td>Catalog</td>\n",
       "      <td>6354.68</td>\n",
       "      <td>CA</td>\n",
       "      <td>Sacramento</td>\n",
       "      <td>Sacramento</td>\n",
       "      <td>USA</td>\n",
       "    </tr>\n",
       "    <tr>\n",
       "      <th>1</th>\n",
       "      <td>2017-10-24</td>\n",
       "      <td>2017-10-22</td>\n",
       "      <td>1-11-73-02A</td>\n",
       "      <td>CaRDo-4500156903</td>\n",
       "      <td>NON-IT Goods</td>\n",
       "      <td>Statewide Contract</td>\n",
       "      <td>Corrections and Rehabilitation, Department of</td>\n",
       "      <td>San Joaquin Distributors, Inc.</td>\n",
       "      <td>CA-SB</td>\n",
       "      <td>93706</td>\n",
       "      <td>...</td>\n",
       "      <td>opex</td>\n",
       "      <td>Angelina</td>\n",
       "      <td>133069</td>\n",
       "      <td>Past Due</td>\n",
       "      <td>Pcard</td>\n",
       "      <td>10700.80</td>\n",
       "      <td>CA</td>\n",
       "      <td>Fresno</td>\n",
       "      <td>Fresno</td>\n",
       "      <td>USA</td>\n",
       "    </tr>\n",
       "    <tr>\n",
       "      <th>2</th>\n",
       "      <td>2018-01-04</td>\n",
       "      <td>2017-12-28</td>\n",
       "      <td>7-11-51-02</td>\n",
       "      <td>PRDo-12-G0237</td>\n",
       "      <td>NON-IT Goods</td>\n",
       "      <td>Informal Competitive</td>\n",
       "      <td>Pesticide Regulation, Department of</td>\n",
       "      <td>Horizon Business Solutions, Inc.</td>\n",
       "      <td>CA-MB CA-SB CA-SBE</td>\n",
       "      <td>95361</td>\n",
       "      <td>...</td>\n",
       "      <td>capex</td>\n",
       "      <td>Wills</td>\n",
       "      <td>144241</td>\n",
       "      <td>Interim</td>\n",
       "      <td>Catalog</td>\n",
       "      <td>11.40</td>\n",
       "      <td>CA</td>\n",
       "      <td>Stanislaus</td>\n",
       "      <td>Oakdale</td>\n",
       "      <td>USA</td>\n",
       "    </tr>\n",
       "  </tbody>\n",
       "</table>\n",
       "<p>3 rows × 35 columns</p>\n",
       "</div>"
      ],
      "text/plain": [
       "  Invoice_Posting_Date Invoice_Issue_Date Contract_Number           PO_Number  \\\n",
       "0           2017-07-05         2017-07-03      7-11-51-02  ECC-11-435.01-020A   \n",
       "1           2017-10-24         2017-10-22     1-11-73-02A    CaRDo-4500156903   \n",
       "2           2018-01-04         2017-12-28      7-11-51-02       PRDo-12-G0237   \n",
       "\n",
       "      Item_Type                           Acquistion_Method  \\\n",
       "0      IT Goods  Services are specifically exempt by policy   \n",
       "1  NON-IT Goods                          Statewide Contract   \n",
       "2  NON-IT Goods                        Informal Competitive   \n",
       "\n",
       "                                      Department  \\\n",
       "0                  Energy Commission, California   \n",
       "1  Corrections and Rehabilitation, Department of   \n",
       "2            Pesticide Regulation, Department of   \n",
       "\n",
       "                             Vendor         Vendor_Type Vendor_Zip_Code  ...  \\\n",
       "0                       Elsevier BV         CA-MB CA-SB      19170-8455  ...   \n",
       "1    San Joaquin Distributors, Inc.               CA-SB           93706  ...   \n",
       "2  Horizon Business Solutions, Inc.  CA-MB CA-SB CA-SBE           95361  ...   \n",
       "\n",
       "  Expense_Type   GL_Head Invoice_Number  Invoice_Type  Purchase_Method  \\\n",
       "0        capex  Angelina         114333       Interim          Catalog   \n",
       "1         opex  Angelina         133069      Past Due            Pcard   \n",
       "2        capex     Wills         144241       Interim          Catalog   \n",
       "\n",
       "   Payment_Amount_In_USD State      County  Major_City Country  \n",
       "0                6354.68    CA  Sacramento  Sacramento     USA  \n",
       "1               10700.80    CA      Fresno      Fresno     USA  \n",
       "2                  11.40    CA  Stanislaus     Oakdale     USA  \n",
       "\n",
       "[3 rows x 35 columns]"
      ]
     },
     "execution_count": 63,
     "metadata": {},
     "output_type": "execute_result"
    }
   ],
   "source": [
    "data.head(3)"
   ]
  },
  {
   "cell_type": "code",
   "execution_count": 4,
   "metadata": {},
   "outputs": [
    {
     "data": {
      "text/plain": [
       "Invoice_Posting_Date             0\n",
       "Invoice_Issue_Date               0\n",
       "Contract_Number             253637\n",
       "PO_Number                    14368\n",
       "Item_Type                        0\n",
       "Acquistion_Method                0\n",
       "Department                       0\n",
       "Vendor                          36\n",
       "Vendor_Type                 204244\n",
       "Vendor_Zip_Code              70105\n",
       "Credit_Card_Payment              0\n",
       "Item                             1\n",
       "Item_Details                   170\n",
       "Quantity                         0\n",
       "Unit_Price_In_USD                0\n",
       "Invoice_Amount_In_USD            0\n",
       "UNSPSC_Code_1                  987\n",
       "UNSPSC_Code_2                  987\n",
       "Category_Level_4              3265\n",
       "Category_Level_3              3265\n",
       "Category_Level_2              3265\n",
       "Category_Level_1              3265\n",
       "Lat_Long                     70105\n",
       "Invoice_Payment_Date             0\n",
       "Invoice_Payment_Due_Date         0\n",
       "Expense_Type                     0\n",
       "GL_Head                          0\n",
       "Invoice_Number                   0\n",
       "Invoice_Type                     0\n",
       "Purchase_Method                  0\n",
       "Payment_Amount_In_USD            0\n",
       "State                        82613\n",
       "County                       82613\n",
       "Major_City                   82613\n",
       "Country                          0\n",
       "dtype: int64"
      ]
     },
     "execution_count": 4,
     "metadata": {},
     "output_type": "execute_result"
    }
   ],
   "source": [
    "data.isnull().sum()"
   ]
  },
  {
   "cell_type": "code",
   "execution_count": 5,
   "metadata": {},
   "outputs": [],
   "source": [
    "imputer = CategoricalImputer()"
   ]
  },
  {
   "cell_type": "code",
   "execution_count": 42,
   "metadata": {},
   "outputs": [],
   "source": [
    "strings= data[['Contract_Number','PO_Number','Vendor','Vendor_Type','Vendor_Zip_Code']]"
   ]
  },
  {
   "cell_type": "code",
   "execution_count": 47,
   "metadata": {},
   "outputs": [],
   "source": [
    "for i in strings:\n",
    "    data[i]= imputer.fit_transform(data[i])"
   ]
  },
  {
   "cell_type": "code",
   "execution_count": 53,
   "metadata": {},
   "outputs": [],
   "source": [
    "strings_1= data[['Item','Item_Details','UNSPSC_Code_1','UNSPSC_Code_2','Category_Level_4','Category_Level_3','Category_Level_2','Category_Level_1','Lat_Long',\n",
    "                 'State','County','Major_City']]"
   ]
  },
  {
   "cell_type": "code",
   "execution_count": 58,
   "metadata": {},
   "outputs": [],
   "source": [
    "for i in strings_1:\n",
    "    data[i]= imputer.fit_transform(data[i])"
   ]
  },
  {
   "cell_type": "code",
   "execution_count": 60,
   "metadata": {},
   "outputs": [
    {
     "data": {
      "text/plain": [
       "Invoice_Posting_Date        0\n",
       "Invoice_Issue_Date          0\n",
       "Contract_Number             0\n",
       "PO_Number                   0\n",
       "Item_Type                   0\n",
       "Acquistion_Method           0\n",
       "Department                  0\n",
       "Vendor                      0\n",
       "Vendor_Type                 0\n",
       "Vendor_Zip_Code             0\n",
       "Credit_Card_Payment         0\n",
       "Item                        0\n",
       "Item_Details                0\n",
       "Quantity                    0\n",
       "Unit_Price_In_USD           0\n",
       "Invoice_Amount_In_USD       0\n",
       "UNSPSC_Code_1               0\n",
       "UNSPSC_Code_2               0\n",
       "Category_Level_4            0\n",
       "Category_Level_3            0\n",
       "Category_Level_2            0\n",
       "Category_Level_1            0\n",
       "Lat_Long                    0\n",
       "Invoice_Payment_Date        0\n",
       "Invoice_Payment_Due_Date    0\n",
       "Expense_Type                0\n",
       "GL_Head                     0\n",
       "Invoice_Number              0\n",
       "Invoice_Type                0\n",
       "Purchase_Method             0\n",
       "Payment_Amount_In_USD       0\n",
       "State                       0\n",
       "County                      0\n",
       "Major_City                  0\n",
       "Country                     0\n",
       "dtype: int64"
      ]
     },
     "execution_count": 60,
     "metadata": {},
     "output_type": "execute_result"
    }
   ],
   "source": [
    "data.isnull().sum()"
   ]
  },
  {
   "cell_type": "code",
   "execution_count": 61,
   "metadata": {},
   "outputs": [],
   "source": [
    "data.to_csv(\"Anirudh_assignment.csv\")"
   ]
  },
  {
   "cell_type": "code",
   "execution_count": null,
   "metadata": {},
   "outputs": [],
   "source": []
  },
  {
   "cell_type": "code",
   "execution_count": null,
   "metadata": {},
   "outputs": [],
   "source": []
  },
  {
   "cell_type": "code",
   "execution_count": null,
   "metadata": {},
   "outputs": [],
   "source": []
  },
  {
   "cell_type": "code",
   "execution_count": null,
   "metadata": {},
   "outputs": [],
   "source": []
  }
 ],
 "metadata": {
  "kernelspec": {
   "display_name": "Python 3",
   "language": "python",
   "name": "python3"
  },
  "language_info": {
   "codemirror_mode": {
    "name": "ipython",
    "version": 3
   },
   "file_extension": ".py",
   "mimetype": "text/x-python",
   "name": "python",
   "nbconvert_exporter": "python",
   "pygments_lexer": "ipython3",
   "version": "3.7.3"
  }
 },
 "nbformat": 4,
 "nbformat_minor": 2
}
